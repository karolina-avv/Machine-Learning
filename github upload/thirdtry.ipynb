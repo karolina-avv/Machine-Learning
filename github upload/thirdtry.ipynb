{
 "cells": [
  {
   "cell_type": "code",
   "execution_count": 7,
   "id": "83c57614",
   "metadata": {},
   "outputs": [],
   "source": [
    "import librosa\n",
    "import os\n",
    "import numpy as np\n",
    "import noisereduce as nr  \n",
    "import soundfile as sf\n"
   ]
  },
  {
   "cell_type": "code",
   "execution_count": null,
   "id": "0e1afe5d",
   "metadata": {},
   "outputs": [],
   "source": [
    "pip install noisereduce"
   ]
  },
  {
   "cell_type": "code",
   "execution_count": 9,
   "id": "b9dc08ef",
   "metadata": {},
   "outputs": [
    {
     "ename": "TypeError",
     "evalue": "reduce_noise() got an unexpected keyword argument 'audio_clip'",
     "output_type": "error",
     "traceback": [
      "\u001b[0;31m---------------------------------------------------------------------------\u001b[0m",
      "\u001b[0;31mTypeError\u001b[0m                                 Traceback (most recent call last)",
      "Cell \u001b[0;32mIn[9], line 8\u001b[0m\n\u001b[1;32m      6\u001b[0m file_path \u001b[38;5;241m=\u001b[39m os\u001b[38;5;241m.\u001b[39mpath\u001b[38;5;241m.\u001b[39mjoin(folder_path, file_name)\n\u001b[1;32m      7\u001b[0m data, samplerate \u001b[38;5;241m=\u001b[39m sf\u001b[38;5;241m.\u001b[39mread(file_path)\n\u001b[0;32m----> 8\u001b[0m reduced_noise_data \u001b[38;5;241m=\u001b[39m nr\u001b[38;5;241m.\u001b[39mreduce_noise(audio_clip\u001b[38;5;241m=\u001b[39mdata, noise_clip\u001b[38;5;241m=\u001b[39mdata, verbose\u001b[38;5;241m=\u001b[39m\u001b[38;5;28;01mTrue\u001b[39;00m)\n\u001b[1;32m      9\u001b[0m output_file_path \u001b[38;5;241m=\u001b[39m os\u001b[38;5;241m.\u001b[39mpath\u001b[38;5;241m.\u001b[39mjoin(\u001b[38;5;124m\"\u001b[39m\u001b[38;5;124mprocessed_audio\u001b[39m\u001b[38;5;124m\"\u001b[39m, file_name)\n\u001b[1;32m     10\u001b[0m sf\u001b[38;5;241m.\u001b[39mwrite(output_file_path, reduced_noise_data, samplerate, subtype\u001b[38;5;241m=\u001b[39m\u001b[38;5;124m\"\u001b[39m\u001b[38;5;124mPCM_24\u001b[39m\u001b[38;5;124m\"\u001b[39m)\n",
      "\u001b[0;31mTypeError\u001b[0m: reduce_noise() got an unexpected keyword argument 'audio_clip'"
     ]
    }
   ],
   "source": [
    "folder_path = \"train_mp3s\"\n",
    "\n",
    "# Iterate over each file in the folder\n",
    "for file_name in os.listdir(folder_path):\n",
    "    if file_name.endswith(\".mp3\"):\n",
    "        file_path = os.path.join(folder_path, file_name)\n",
    "        data, samplerate = sf.read(file_path)\n",
    "        reduced_noise_data = nr.reduce_noise(audio_clip=data, noise_clip=data, verbose=True)\n",
    "        output_file_path = os.path.join(\"processed_audio\", file_name)\n",
    "        sf.write(output_file_path, reduced_noise_data, samplerate, subtype=\"PCM_24\")"
   ]
  },
  {
   "cell_type": "code",
   "execution_count": null,
   "id": "0d129694",
   "metadata": {},
   "outputs": [],
   "source": []
  }
 ],
 "metadata": {
  "kernelspec": {
   "display_name": "Python 3 (ipykernel)",
   "language": "python",
   "name": "python3"
  },
  "language_info": {
   "codemirror_mode": {
    "name": "ipython",
    "version": 3
   },
   "file_extension": ".py",
   "mimetype": "text/x-python",
   "name": "python",
   "nbconvert_exporter": "python",
   "pygments_lexer": "ipython3",
   "version": "3.11.5"
  }
 },
 "nbformat": 4,
 "nbformat_minor": 5
}
